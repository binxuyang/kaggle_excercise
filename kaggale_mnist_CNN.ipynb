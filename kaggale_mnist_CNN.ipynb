{
  "cells": [
    {
      "metadata": {
        "_uuid": "8f2839f25d086af736a60e9eeb907d3b93b6e0e5",
        "_cell_guid": "b1076dfc-b9ad-4769-8c92-a6c4dae69d19",
        "trusted": false,
        "collapsed": true
      },
      "cell_type": "code",
      "source": "# This Python 3 environment comes with many helpful analytics libraries installed\n# It is defined by the kaggle/python docker image: https://github.com/kaggle/docker-python\n# For example, here's several helpful packages to load in \n\nimport pandas as pd\nimport numpy as np\nimport matplotlib.pyplot as plt\nimport matplotlib.image as mpimg\nimport seaborn as sns\n%matplotlib inline\n\nnp.random.seed(2)\n\nfrom sklearn.model_selection import train_test_split\nfrom sklearn.metrics import confusion_matrix\nimport itertools\n\nfrom keras.utils.np_utils import to_categorical # convert to one-hot-encoding\nfrom keras.models import Sequential\nfrom keras.layers import Dense, Dropout, Flatten, Conv2D, MaxPool2D\nfrom keras.optimizers import RMSprop, Adam\nfrom keras.preprocessing.image import ImageDataGenerator\nfrom keras.callbacks import ReduceLROnPlateau\n\n\nsns.set(style='white', context='notebook', palette='deep')\n\n# Any results you write to the current directory are saved as output.",
      "execution_count": null,
      "outputs": []
    },
    {
      "metadata": {
        "_uuid": "d629ff2d2480ee46fbb7e2d37f6b5fab8052498a",
        "_cell_guid": "79c7e3d0-c299-4dcb-8224-4455121ee9b0",
        "trusted": false,
        "collapsed": true
      },
      "cell_type": "code",
      "source": "train = pd.read_csv(\"../input/train.csv\")\nprint (train.shape)\nprint (train.head())",
      "execution_count": null,
      "outputs": []
    },
    {
      "metadata": {
        "_uuid": "35e5b447a9b4c5b592db6d5cf129fe5c4650332d",
        "_cell_guid": "c27790c7-3fe5-4ce9-81f1-f751e97e8c69",
        "trusted": false,
        "collapsed": true
      },
      "cell_type": "code",
      "source": "test = pd.read_csv(\"../input/test.csv\")\nprint(test.shape)\nprint(test.head())",
      "execution_count": null,
      "outputs": []
    },
    {
      "metadata": {
        "_uuid": "9ee411e103346727ec8b1abea33824b86bd32786",
        "collapsed": true,
        "_cell_guid": "2a4c82f4-0c50-40f4-aedf-52e4372ea4bf",
        "trusted": false
      },
      "cell_type": "code",
      "source": "train_y = train[\"label\"]\ntrain_x = train.drop(labels=\"label\",axis=1)\n",
      "execution_count": null,
      "outputs": []
    },
    {
      "metadata": {
        "_uuid": "13ad6aeeb74b4d4c0bfefc2b77a66a44ec3c763f",
        "_cell_guid": "de96bab3-1c4a-448f-90e8-f7b08053524b",
        "trusted": false,
        "collapsed": true
      },
      "cell_type": "code",
      "source": "test = test/255\ntrain_x = train_x/255\n\n\ntrain_x = train_x.values.reshape(-1,28,28,1)\ntest = test.values.reshape(-1,28,28,1)\n\ntrain_y = to_categorical(train_y, num_classes=10)\nprint (train_y)\nrandom_seed = 2\ntrain_x,val_x,train_y,val_y = train_test_split(train_x, train_y, test_size=0.1, random_state=random_seed)\n\nprint (train_x.shape)\n",
      "execution_count": null,
      "outputs": []
    },
    {
      "metadata": {
        "_uuid": "d235a5813b54d7a7e513fac723b55df5a8c92867",
        "_cell_guid": "60b223eb-c700-426c-baed-06a9dbb49a7a",
        "trusted": false,
        "collapsed": true
      },
      "cell_type": "code",
      "source": "model = Sequential()\n\nmodel.add(Conv2D(filters = 32, kernel_size = (5,5),padding = 'Same', \n                 activation ='relu', input_shape = (28,28,1)))\n#model.add(Conv2D(filters=32, kernel_size=(5,5), padding= \"Same\", activation = 'relu', input_size=(28,28,1)))\nmodel.add(Conv2D(filters = 32, kernel_size = (5,5),padding = 'Same', \n                 activation ='relu'))\nmodel.add(MaxPool2D(pool_size=(2,2)))\nmodel.add(Dropout(0.25))\n\n\nmodel.add(Conv2D(filters = 64, kernel_size = (3,3),padding = 'Same', \n                 activation ='relu'))\nmodel.add(Conv2D(filters = 64, kernel_size = (3,3),padding = 'Same', \n                 activation ='relu'))\nmodel.add(MaxPool2D(pool_size=(2,2), strides=(2,2)))\nmodel.add(Dropout(0.25))\n\n\nmodel.add(Flatten())\nmodel.add(Dense(256, activation = \"relu\"))\nmodel.add(Dropout(0.5))\nmodel.add(Dense(10, activation = \"softmax\"))\n\n#optimizer = RMSprop(lr=0.001, rho=0.9, epsilon=1e-08, decay=0.0)\noptimizer = Adam(lr=0.001, beta_1=0.9, beta_2=0.999, epsilon=None, decay=0.0, amsgrad=False)\nmodel.compile(optimizer=optimizer, loss='categorical_crossentropy', metrics=['accuracy'])\n\nlearning_rate_reduction = ReduceLROnPlateau(monitor='val_acc', patience=3, verbose=1, factor=0.5, min_lr=0.0001)\nepochs = 30\nbatch_size = 86\n\n# With data augmentation to prevent overfitting (accuracy 0.99286)\n\ndatagen = ImageDataGenerator(\n        featurewise_center=False,  # set input mean to 0 over the dataset\n        samplewise_center=False,  # set each sample mean to 0\n        featurewise_std_normalization=False,  # divide inputs by std of the dataset\n        samplewise_std_normalization=False,  # divide each input by its std\n        zca_whitening=False,  # apply ZCA whitening\n        rotation_range=10,  # randomly rotate images in the range (degrees, 0 to 180)\n        zoom_range = 0.1, # Randomly zoom image \n        width_shift_range=0.1,  # randomly shift images horizontally (fraction of total width)\n        height_shift_range=0.1,  # randomly shift images vertically (fraction of total height)\n        horizontal_flip=False,  # randomly flip images\n        vertical_flip=False)  # randomly flip images\n\n\ndatagen.fit(train_x)\n\nhistory = model.fit_generator(datagen.flow(train_x,train_y, batch_size=batch_size),\n                              epochs = epochs, validation_data = (val_x,val_y),\n                              verbose = 2, steps_per_epoch=train_x.shape[0] // batch_size\n                              , callbacks=[learning_rate_reduction])\n\n#history = model.fit(train_x, train_y, epochs=1,validation_data = (val_x,val_y), batch_size=100)\n#preds = model.evaluate(test_x, batch_size=100, verbose=1)\n#print (\"Loss = \" + str(preds[0]))\n#print (\"Test Accuracy = \" + str(preds[1]))\n",
      "execution_count": null,
      "outputs": []
    },
    {
      "metadata": {
        "_uuid": "e0431a9bc9b50abf18b6e21e022f5ce4554b078c",
        "collapsed": true,
        "_cell_guid": "f457f85c-ec27-46d8-9c82-a2e094ae2349",
        "trusted": false
      },
      "cell_type": "code",
      "source": "# Plot the loss and accuracy curves for training and validation \nfig, ax = plt.subplots(2,1)\nax[0].plot(history.history['loss'], color='b', label=\"Training loss\")\nax[0].plot(history.history['val_loss'], color='r', label=\"validation loss\",axes =ax[0])\nlegend = ax[0].legend(loc='best', shadow=True)\n\nax[1].plot(history.history['acc'], color='b', label=\"Training accuracy\")\nax[1].plot(history.history['val_acc'], color='r',label=\"Validation accuracy\")\nlegend = ax[1].legend(loc='best', shadow=True)",
      "execution_count": null,
      "outputs": []
    },
    {
      "metadata": {
        "_uuid": "0d8d3e18213488d4a86e95e789691a00c2eb836a",
        "collapsed": true,
        "_cell_guid": "59cf5273-ef89-4940-9dfc-20bbeb1b7a33",
        "trusted": false
      },
      "cell_type": "code",
      "source": "# Predict the values from the validation dataset\nY_pred = model.predict(val_x)\n# Convert predictions classes to one hot vectors \nY_pred_classes = np.argmax(Y_pred,axis = 1) \n# Convert validation observations to one hot vectors\nY_true = np.argmax(val_y,axis = 1) \n\n",
      "execution_count": null,
      "outputs": []
    },
    {
      "metadata": {
        "_uuid": "d2507de944d4bf78f54ac12635aa373690583a2d",
        "collapsed": true,
        "_cell_guid": "1d4f8590-eb98-40ac-966d-4b97780f9ff2",
        "trusted": false
      },
      "cell_type": "code",
      "source": "# predict results\nresults = model.predict(test)\n\n# select the indix with the maximum probability\nresults = np.argmax(results,axis = 1)\n\nresults = pd.Series(results,name=\"Label\")\nsubmission = pd.concat([pd.Series(range(1,28001),name = \"ImageId\"),results],axis = 1)\n\nsubmission.to_csv(\"cnn_mnist_datagen.csv\",index=False)",
      "execution_count": null,
      "outputs": []
    },
    {
      "metadata": {
        "_uuid": "bb12e55770bbb8e6a95b66477b11f53fde3ea137",
        "collapsed": true,
        "_cell_guid": "7bc75956-f7cb-46ce-997c-452bf2db875c",
        "trusted": false
      },
      "cell_type": "code",
      "source": "",
      "execution_count": null,
      "outputs": []
    }
  ],
  "metadata": {
    "language_info": {
      "name": "python",
      "version": "3.6.5",
      "mimetype": "text/x-python",
      "codemirror_mode": {
        "name": "ipython",
        "version": 3
      },
      "pygments_lexer": "ipython3",
      "nbconvert_exporter": "python",
      "file_extension": ".py"
    },
    "kernelspec": {
      "display_name": "Python 3",
      "language": "python",
      "name": "python3"
    }
  },
  "nbformat": 4,
  "nbformat_minor": 1
}